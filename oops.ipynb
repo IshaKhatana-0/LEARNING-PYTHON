{
 "cells": [
  {
   "cell_type": "code",
   "execution_count": null,
   "metadata": {},
   "outputs": [
    {
     "name": "stdout",
     "output_type": "stream",
     "text": [
      "hi isha  your makrs average is  90.0\n",
      "hi himanshu  your makrs average is  90.0\n"
     ]
    }
   ],
   "source": [
    "class Student:\n",
    "    def __init__(self,name,marks):\n",
    "        self.name=name\n",
    "        self.marks=marks\n",
    "    def average(self):\n",
    "        sum=0\n",
    "        for val in self.marks:\n",
    "            sum += val\n",
    "        print(\"hi\",self.name, \" your makrs average is \", sum/3)\n",
    "s1=Student(\"isha\",[90,90,90])\n",
    "s1.average()\n",
    "s2=Student(\"himanshu\",[90,90,90])\n",
    "s2.average()"
   ]
  },
  {
   "cell_type": "code",
   "execution_count": null,
   "metadata": {},
   "outputs": [],
   "source": []
  }
 ],
 "metadata": {
  "kernelspec": {
   "display_name": "Python 3",
   "language": "python",
   "name": "python3"
  },
  "language_info": {
   "codemirror_mode": {
    "name": "ipython",
    "version": 3
   },
   "file_extension": ".py",
   "mimetype": "text/x-python",
   "name": "python",
   "nbconvert_exporter": "python",
   "pygments_lexer": "ipython3",
   "version": "3.13.1"
  }
 },
 "nbformat": 4,
 "nbformat_minor": 2
}
